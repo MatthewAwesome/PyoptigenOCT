{
  "nbformat": 4,
  "nbformat_minor": 0,
  "metadata": {
    "colab": {
      "provenance": [],
      "authorship_tag": "ABX9TyOhNlyfzOb207frqAE0ISqX",
      "include_colab_link": true
    },
    "kernelspec": {
      "name": "python3",
      "display_name": "Python 3"
    },
    "language_info": {
      "name": "python"
    }
  },
  "cells": [
    {
      "cell_type": "markdown",
      "metadata": {
        "id": "view-in-github",
        "colab_type": "text"
      },
      "source": [
        "<a href=\"https://colab.research.google.com/github/MatthewAwesome/PyoptigenOCT/blob/main/OCT_Processing_Example.ipynb\" target=\"_parent\"><img src=\"https://colab.research.google.com/assets/colab-badge.svg\" alt=\"Open In Colab\"/></a>"
      ]
    },
    {
      "cell_type": "code",
      "execution_count": null,
      "metadata": {
        "colab": {
          "base_uri": "https://localhost:8080/"
        },
        "id": "CPsXwpn-QeQ9",
        "outputId": "ce2e4c88-1425-4e67-d25d-8da97988318b"
      },
      "outputs": [
        {
          "output_type": "stream",
          "name": "stdout",
          "text": [
            "Looking in indexes: https://pypi.org/simple, https://us-python.pkg.dev/colab-wheels/public/simple/\n",
            "Collecting oct-converter\n",
            "  Downloading oct_converter-0.5.11-py3-none-any.whl (30 kB)\n",
            "Collecting construct (from oct-converter)\n",
            "  Downloading construct-2.10.68.tar.gz (57 kB)\n",
            "\u001b[2K     \u001b[90m━━━━━━━━━━━━━━━━━━━━━━━━━━━━━━━━━━━━━━━━\u001b[0m \u001b[32m57.9/57.9 kB\u001b[0m \u001b[31m4.9 MB/s\u001b[0m eta \u001b[36m0:00:00\u001b[0m\n",
            "\u001b[?25h  Preparing metadata (setup.py) ... \u001b[?25l\u001b[?25hdone\n",
            "Requirement already satisfied: imageio in /usr/local/lib/python3.10/dist-packages (from oct-converter) (2.25.1)\n",
            "Requirement already satisfied: natsort in /usr/local/lib/python3.10/dist-packages (from oct-converter) (8.3.1)\n",
            "Requirement already satisfied: numpy in /usr/local/lib/python3.10/dist-packages (from oct-converter) (1.22.4)\n",
            "Requirement already satisfied: opencv-python in /usr/local/lib/python3.10/dist-packages (from oct-converter) (4.7.0.72)\n",
            "Collecting pydicom (from oct-converter)\n",
            "  Downloading pydicom-2.4.1-py3-none-any.whl (1.8 MB)\n",
            "\u001b[2K     \u001b[90m━━━━━━━━━━━━━━━━━━━━━━━━━━━━━━━━━━━━━━━━\u001b[0m \u001b[32m1.8/1.8 MB\u001b[0m \u001b[31m24.2 MB/s\u001b[0m eta \u001b[36m0:00:00\u001b[0m\n",
            "\u001b[?25hRequirement already satisfied: matplotlib in /usr/local/lib/python3.10/dist-packages (from oct-converter) (3.7.1)\n",
            "Requirement already satisfied: imageio-ffmpeg in /usr/local/lib/python3.10/dist-packages (from oct-converter) (0.4.8)\n",
            "Requirement already satisfied: h5py in /usr/local/lib/python3.10/dist-packages (from oct-converter) (3.8.0)\n",
            "Requirement already satisfied: pillow>=8.3.2 in /usr/local/lib/python3.10/dist-packages (from imageio->oct-converter) (8.4.0)\n",
            "Requirement already satisfied: contourpy>=1.0.1 in /usr/local/lib/python3.10/dist-packages (from matplotlib->oct-converter) (1.0.7)\n",
            "Requirement already satisfied: cycler>=0.10 in /usr/local/lib/python3.10/dist-packages (from matplotlib->oct-converter) (0.11.0)\n",
            "Requirement already satisfied: fonttools>=4.22.0 in /usr/local/lib/python3.10/dist-packages (from matplotlib->oct-converter) (4.39.3)\n",
            "Requirement already satisfied: kiwisolver>=1.0.1 in /usr/local/lib/python3.10/dist-packages (from matplotlib->oct-converter) (1.4.4)\n",
            "Requirement already satisfied: packaging>=20.0 in /usr/local/lib/python3.10/dist-packages (from matplotlib->oct-converter) (23.1)\n",
            "Requirement already satisfied: pyparsing>=2.3.1 in /usr/local/lib/python3.10/dist-packages (from matplotlib->oct-converter) (3.0.9)\n",
            "Requirement already satisfied: python-dateutil>=2.7 in /usr/local/lib/python3.10/dist-packages (from matplotlib->oct-converter) (2.8.2)\n",
            "Requirement already satisfied: six>=1.5 in /usr/local/lib/python3.10/dist-packages (from python-dateutil>=2.7->matplotlib->oct-converter) (1.16.0)\n",
            "Building wheels for collected packages: construct\n",
            "  Building wheel for construct (setup.py) ... \u001b[?25l\u001b[?25hdone\n",
            "  Created wheel for construct: filename=construct-2.10.68-py3-none-any.whl size=59224 sha256=11a845d8abb5c1c57f3f31ee9dd6b03cb63886d840b0e7a22ccb60a3e17f230e\n",
            "  Stored in directory: /root/.cache/pip/wheels/ad/d3/ab/fd87f53c1e3c4b77c0bbcf272051ccc8455a00c524be951ea0\n",
            "Successfully built construct\n",
            "Installing collected packages: pydicom, construct, oct-converter\n",
            "Successfully installed construct-2.10.68 oct-converter-0.5.11 pydicom-2.4.1\n"
          ]
        }
      ],
      "source": [
        "# Let's see if we can install OCT converter:\n",
        "%pip install oct-converter\n"
      ]
    },
    {
      "cell_type": "code",
      "source": [
        "# Okay, let's see if we can load our data:"
      ],
      "metadata": {
        "id": "gXfUQwDOQ0fR"
      },
      "execution_count": null,
      "outputs": []
    }
  ]
}